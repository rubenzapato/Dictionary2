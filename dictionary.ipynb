{
 "cells": [
  {
   "cell_type": "code",
   "execution_count": 2,
   "metadata": {},
   "outputs": [
    {
     "name": "stdout",
     "output_type": "stream",
     "text": [
      "Lista de Reproducción\n",
      "\n",
      "Ingresa la palabra que te gustaría\n",
      "Ejemplo: 'rock', y obtendrás un playlist de canciones o artistas que incluyan la palabra rock\n",
      "[['Rock Band', 'DJ RUMY'], ['rockstar', 'Post Malone'], [\"Rocket Man (I Think It's Going To Be A Long, Long Time)\", 'Elton John'], [\"Rockin' Around The Christmas Tree\", 'Brenda Lee'], ['Rockstar', 'Nickelback'], ['ROCKSTAR', 'Junior H'], ['ROCKSTAR', 'DaBaby'], ['Rock Your Body', 'Justin Timberlake'], ['Rock with You (Single Version)', 'Michael Jackson'], ['Rock You Like a Hurricane (2015 - Remaster)', 'Scorpions'], ['Rock the Casbah (Remastered)', 'The Clash'], [\"Somebody's Watching Me\", 'Rockwell'], ['Rock and A Hard Place', 'Bailey Zimmerman'], ['Rock', 'Stepz'], ['Rock Of Ages', 'Def Leppard'], ['Rock You Like a Hurricane (2011)', 'Scorpions'], ['Rockabye (feat. Sean Paul & Anne-Marie)', 'Clean Bandit'], ['Rockstar', 'LISA'], ['Rock The Boat', 'Aaliyah'], ['Rock And Roll All Nite', 'Kiss'], ['Rock Lobster', \"The B-52's\"], ['Rock and Roll (Remaster)', 'Led Zeppelin'], [\"Rockin' in the Free World\", 'Neil Young'], ['ROCKMAN', 'Mk.gee'], ['U.O.E.N.O. (feat. Future, Rick Ross)', 'Rocko']]\n",
      "{'Rock Band': 'DJ RUMY', 'rockstar': 'Post Malone', \"Rocket Man (I Think It's Going To Be A Long, Long Time)\": 'Elton John', \"Rockin' Around The Christmas Tree\": 'Brenda Lee', 'Rockstar': 'LISA', 'ROCKSTAR': 'DaBaby', 'Rock Your Body': 'Justin Timberlake', 'Rock with You (Single Version)': 'Michael Jackson', 'Rock You Like a Hurricane (2015 - Remaster)': 'Scorpions', 'Rock the Casbah (Remastered)': 'The Clash', \"Somebody's Watching Me\": 'Rockwell', 'Rock and A Hard Place': 'Bailey Zimmerman', 'Rock': 'Stepz', 'Rock Of Ages': 'Def Leppard', 'Rock You Like a Hurricane (2011)': 'Scorpions', 'Rockabye (feat. Sean Paul & Anne-Marie)': 'Clean Bandit', 'Rock The Boat': 'Aaliyah', 'Rock And Roll All Nite': 'Kiss', 'Rock Lobster': \"The B-52's\", 'Rock and Roll (Remaster)': 'Led Zeppelin', \"Rockin' in the Free World\": 'Neil Young', 'ROCKMAN': 'Mk.gee', 'U.O.E.N.O. (feat. Future, Rick Ross)': 'Rocko'}\n"
     ]
    }
   ],
   "source": [
    "import requests \n",
    "print(\"Lista de Reproducción\\n\")\n",
    " # Referencia: https://www.deezer.com/en/channels/explore \n",
    "print(\"Ingresa la palabra que te gustaría\") \n",
    "print(\"Ejemplo: 'rock', y obtendrás un playlist de canciones o artistas que incluyan la palabra rock\") \n",
    "word_to_search = input()\n",
    "url = \"https://deezerdevs-deezer.p.rapidapi.com/search\"\n",
    "querystring = {\"q\":word_to_search}\n",
    "headers = {    \"X-RapidAPI-Key\": \"3ed98f551fmshe4e6260228c4eadp13db17jsn8c893e1194da\",    \"X-RapidAPI-Host\": \"deezerdevs-deezer.p.rapidapi.com\" } \n",
    "response = requests.request(\"GET\", url, headers=headers, params=querystring).json() \n",
    "my_list = [] \n",
    "my_dictionary={}\n",
    "for element in response['data']:    \n",
    "    my_list.append([element['title'], element['artist']['name']]) \n",
    "    my_dictionary[element['title']] = element['artist']['name']\n",
    "print(my_list)\n",
    "print(my_dictionary)"
   ]
  }
 ],
 "metadata": {
  "kernelspec": {
   "display_name": "Python 3",
   "language": "python",
   "name": "python3"
  },
  "language_info": {
   "codemirror_mode": {
    "name": "ipython",
    "version": 3
   },
   "file_extension": ".py",
   "mimetype": "text/x-python",
   "name": "python",
   "nbconvert_exporter": "python",
   "pygments_lexer": "ipython3",
   "version": "3.12.0"
  }
 },
 "nbformat": 4,
 "nbformat_minor": 2
}
